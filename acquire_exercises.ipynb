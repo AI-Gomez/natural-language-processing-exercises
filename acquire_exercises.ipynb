{
 "cells": [
  {
   "cell_type": "markdown",
   "metadata": {},
   "source": [
    "### 1. Codeup Blog Articles - Scrape the article text from the following pages\n",
    "- https://codeup.com/codeups-data-science-career-accelerator-is-here\n",
    "- https://codeup.com/data-science-myths/\n",
    "- https://codeup.com/data-science-vs-data-analytics-whats-the-difference/\n",
    "- https://codeup.com/10-tips-to-crush-it-at-the-sa-tech-job-fair/\n",
    "- https://codeup.com/competitor-bootcamps-are-closing-is-the-model-in-danger/\n",
    "\n",
    "**Encapsulate your work in a function named get_blog_articles that will return a list of dictionaries, with each dictionary representing one article. The shape of each dictionary should look like this:**\n",
    "\n",
    "`{\n",
    "    'title': 'the title of the article',\n",
    "    'content': 'the full text content of the article'\n",
    "}`"
   ]
  },
  {
   "cell_type": "code",
   "execution_count": 9,
   "metadata": {},
   "outputs": [],
   "source": [
    "from requests import get\n",
    "import pandas as pd\n",
    "from bs4 import BeautifulSoup\n",
    "soup = BeautifulSoup"
   ]
  },
  {
   "cell_type": "code",
   "execution_count": 10,
   "metadata": {},
   "outputs": [],
   "source": [
    "# Create a helper function that requests and parses HTML returning a soup object.\n",
    "\n",
    "def make_soup(url):\n",
    "    '''\n",
    "    This helper function takes in a url and requests and parses HTML\n",
    "    returning a soup object.\n",
    "    '''\n",
    "    headers = {'User-Agent': 'Codeup Data Science'} \n",
    "    response = get(url, headers=headers)\n",
    "    soup = BeautifulSoup(response.text, 'html.parser')\n",
    "    return soup"
   ]
  },
  {
   "cell_type": "code",
   "execution_count": 11,
   "metadata": {},
   "outputs": [],
   "source": [
    "def get_blog_articles(urls, cached=False):\n",
    "    '''\n",
    "    This function takes in a list of Codeup Blog urls and a parameter\n",
    "    with default cached == False which scrapes the title and text for each url, \n",
    "    creates a list of dictionaries with the title and text for each blog, \n",
    "    converts list to df, and returns df.\n",
    "    If cached == True, the function returns a df from a json file.\n",
    "    '''\n",
    "    if cached == True:\n",
    "        df = pd.read_json('big_blogs.json')\n",
    "        \n",
    "    # cached == False completes a fresh scrape for df     \n",
    "    else:\n",
    "\n",
    "        # Create an empty list to hold dictionaries\n",
    "        articles = []\n",
    "\n",
    "        # Loop through each url in our list of urls\n",
    "        for url in urls:\n",
    "\n",
    "            # Make request and soup object using helper\n",
    "            soup = make_soup(url)\n",
    "\n",
    "            # Save the title of each blog in variable title\n",
    "            title = soup.find('h1').text\n",
    "\n",
    "            # Save the text in each blog to variable text\n",
    "            content = soup.find('div', class_=\"jupiterx-post-content\").text\n",
    "\n",
    "            # Create a dictionary holding the title and content for each blog\n",
    "            article = {'title': title, 'content': content}\n",
    "\n",
    "            # Add each dictionary to the articles list of dictionaries\n",
    "            articles.append(article)\n",
    "            \n",
    "        # convert our list of dictionaries to a df\n",
    "        df = pd.DataFrame(articles)\n",
    "\n",
    "        # Write df to a json file for faster access\n",
    "        df.to_json('big_blogs.json')\n",
    "    \n",
    "    return df"
   ]
  },
  {
   "cell_type": "code",
   "execution_count": 12,
   "metadata": {},
   "outputs": [
    {
     "data": {
      "text/html": [
       "<div>\n",
       "<style scoped>\n",
       "    .dataframe tbody tr th:only-of-type {\n",
       "        vertical-align: middle;\n",
       "    }\n",
       "\n",
       "    .dataframe tbody tr th {\n",
       "        vertical-align: top;\n",
       "    }\n",
       "\n",
       "    .dataframe thead th {\n",
       "        text-align: right;\n",
       "    }\n",
       "</style>\n",
       "<table border=\"1\" class=\"dataframe\">\n",
       "  <thead>\n",
       "    <tr style=\"text-align: right;\">\n",
       "      <th></th>\n",
       "      <th>title</th>\n",
       "      <th>content</th>\n",
       "    </tr>\n",
       "  </thead>\n",
       "  <tbody>\n",
       "    <tr>\n",
       "      <th>0</th>\n",
       "      <td>Codeup’s Data Science Career Accelerator is Here!</td>\n",
       "      <td>The rumors are true! The time has arrived. Cod...</td>\n",
       "    </tr>\n",
       "    <tr>\n",
       "      <th>1</th>\n",
       "      <td>Data Science Myths</td>\n",
       "      <td>By Dimitri Antoniou and Maggie Giust\\nData Sci...</td>\n",
       "    </tr>\n",
       "    <tr>\n",
       "      <th>2</th>\n",
       "      <td>Data Science VS Data Analytics: What’s The Dif...</td>\n",
       "      <td>By Dimitri Antoniou\\nA week ago, Codeup launch...</td>\n",
       "    </tr>\n",
       "    <tr>\n",
       "      <th>3</th>\n",
       "      <td>10 Tips to Crush It at the SA Tech Job Fair</td>\n",
       "      <td>SA Tech Job Fair\\nThe third bi-annual San Anto...</td>\n",
       "    </tr>\n",
       "    <tr>\n",
       "      <th>4</th>\n",
       "      <td>Competitor Bootcamps Are Closing. Is the Model...</td>\n",
       "      <td>Competitor Bootcamps Are Closing. Is the Model...</td>\n",
       "    </tr>\n",
       "  </tbody>\n",
       "</table>\n",
       "</div>"
      ],
      "text/plain": [
       "                                               title  \\\n",
       "0  Codeup’s Data Science Career Accelerator is Here!   \n",
       "1                                 Data Science Myths   \n",
       "2  Data Science VS Data Analytics: What’s The Dif...   \n",
       "3        10 Tips to Crush It at the SA Tech Job Fair   \n",
       "4  Competitor Bootcamps Are Closing. Is the Model...   \n",
       "\n",
       "                                             content  \n",
       "0  The rumors are true! The time has arrived. Cod...  \n",
       "1  By Dimitri Antoniou and Maggie Giust\\nData Sci...  \n",
       "2  By Dimitri Antoniou\\nA week ago, Codeup launch...  \n",
       "3  SA Tech Job Fair\\nThe third bi-annual San Anto...  \n",
       "4  Competitor Bootcamps Are Closing. Is the Model...  "
      ]
     },
     "execution_count": 12,
     "metadata": {},
     "output_type": "execute_result"
    }
   ],
   "source": [
    "# Here cached == False, so the function will do a fresh scrape of the urls and write data to a json file.\n",
    "\n",
    "urls = ['https://codeup.com/codeups-data-science-career-accelerator-is-here/',\n",
    "        'https://codeup.com/data-science-myths/',\n",
    "        'https://codeup.com/data-science-vs-data-analytics-whats-the-difference/',\n",
    "        'https://codeup.com/10-tips-to-crush-it-at-the-sa-tech-job-fair/',\n",
    "        'https://codeup.com/competitor-bootcamps-are-closing-is-the-model-in-danger/']\n",
    "\n",
    "blogs = get_blog_articles(urls=urls, cached=False)\n",
    "blogs"
   ]
  },
  {
   "cell_type": "markdown",
   "metadata": {},
   "source": [
    "### Bonus question"
   ]
  },
  {
   "cell_type": "code",
   "execution_count": 13,
   "metadata": {},
   "outputs": [],
   "source": [
    "url = 'https://codeup.com/resources/#blog'\n",
    "soup = make_soup(url)"
   ]
  },
  {
   "cell_type": "code",
   "execution_count": 14,
   "metadata": {},
   "outputs": [],
   "source": [
    "# I'm filtering my soup to return a list of all anchor elements from my HTML.\n",
    "\n",
    "urls_list = soup.find_all('a', class_='jet-listing-dynamic-link__link')"
   ]
  },
  {
   "cell_type": "code",
   "execution_count": 15,
   "metadata": {},
   "outputs": [
    {
     "name": "stdout",
     "output_type": "stream",
     "text": [
      "There are 20 unique links in our urls list.\n",
      "\n"
     ]
    },
    {
     "data": {
      "text/plain": [
       "['https://codeup.com/what-is-machine-learning/',\n",
       " 'https://codeup.com/introducing-salary-refund-guarantee/',\n",
       " 'https://codeup.com/codeup-in-houston/',\n",
       " 'https://codeup.com/codeup-wins-civtech-datathon/',\n",
       " 'https://codeup.com/codeup-alumni-make-water/',\n",
       " 'https://codeup.com/transition-into-data-science/',\n",
       " 'https://codeup.com/what-data-science-career-is-for-you/',\n",
       " 'https://codeup.com/what-to-expect-at-codeup/',\n",
       " 'https://codeup.com/what-is-python/',\n",
       " 'https://codeup.com/education-is-an-investment/',\n",
       " 'https://codeup.com/covid-19-data-challenge/',\n",
       " 'https://codeup.com/codeup-inc-5000/',\n",
       " 'https://codeup.com/from-slacker-to-data-scientist/',\n",
       " 'https://codeup.com/succeed-in-a-coding-bootcamp/',\n",
       " 'https://codeup.com/codeups-application-process/',\n",
       " 'https://codeup.com/new-scholarship/',\n",
       " 'https://codeup.com/build-your-career-in-tech/',\n",
       " 'https://codeup.com/math-in-data-science/',\n",
       " 'https://codeup.com/how-were-celebrating-world-mental-health-day-from-home/',\n",
       " 'https://codeup.com/journey-into-web-development/']"
      ]
     },
     "execution_count": 15,
     "metadata": {},
     "output_type": "execute_result"
    }
   ],
   "source": [
    "# Filter the href attribute value for each anchor element in my list; we scraped 40 urls.\n",
    "\n",
    "# I'm using a set comprehension to return only unique urls because there are two links for each article.\n",
    "urls = {link.get('href') for link in urls_list}\n",
    "\n",
    "# I'm converting my set to a list of urls.\n",
    "urls = list(urls)\n",
    "\n",
    "print(f'There are {len(urls)} unique links in our urls list.')\n",
    "print()\n",
    "urls \n"
   ]
  },
  {
   "cell_type": "code",
   "execution_count": 16,
   "metadata": {},
   "outputs": [],
   "source": [
    "def get_all_urls():\n",
    "    '''\n",
    "    This function scrapes all of the Codeup blog urls from\n",
    "    the main Codeup blog page and returns a list of urls.\n",
    "    '''\n",
    "    # The base url for the main Codeup blog page\n",
    "    url = 'https://codeup.com/resources/#blog' \n",
    "    \n",
    "    # Make request and soup object using helper\n",
    "    soup = make_soup(url)\n",
    "    \n",
    "    # Create a list of the anchor elements that hold the urls.\n",
    "    urls_list = soup.find_all('a', class_='jet-listing-dynamic-link__link')\n",
    "    \n",
    "    # I'm using a set comprehension to return only unique urls because list contains duplicate urls.\n",
    "    urls = {link.get('href') for link in urls_list}\n",
    "\n",
    "    # I'm converting my set to a list of urls.\n",
    "    urls = list(urls)\n",
    "        \n",
    "    return urls"
   ]
  },
  {
   "cell_type": "code",
   "execution_count": 17,
   "metadata": {},
   "outputs": [],
   "source": [
    "# Now I can use my same function with my new function.\n",
    "# cached == False does a fresh scrape.\n",
    "\n",
    "big_blogs = get_blog_articles(urls=get_all_urls(), cached=False)"
   ]
  },
  {
   "cell_type": "code",
   "execution_count": 18,
   "metadata": {},
   "outputs": [
    {
     "data": {
      "text/html": [
       "<div>\n",
       "<style scoped>\n",
       "    .dataframe tbody tr th:only-of-type {\n",
       "        vertical-align: middle;\n",
       "    }\n",
       "\n",
       "    .dataframe tbody tr th {\n",
       "        vertical-align: top;\n",
       "    }\n",
       "\n",
       "    .dataframe thead th {\n",
       "        text-align: right;\n",
       "    }\n",
       "</style>\n",
       "<table border=\"1\" class=\"dataframe\">\n",
       "  <thead>\n",
       "    <tr style=\"text-align: right;\">\n",
       "      <th></th>\n",
       "      <th>title</th>\n",
       "      <th>content</th>\n",
       "    </tr>\n",
       "  </thead>\n",
       "  <tbody>\n",
       "    <tr>\n",
       "      <th>0</th>\n",
       "      <td>What is Machine Learning?</td>\n",
       "      <td>There’s a lot we can learn about machines, and...</td>\n",
       "    </tr>\n",
       "    <tr>\n",
       "      <th>1</th>\n",
       "      <td>Introducing Our Salary Refund Guarantee</td>\n",
       "      <td>Here at Codeup, we believe it’s time to revolu...</td>\n",
       "    </tr>\n",
       "    <tr>\n",
       "      <th>2</th>\n",
       "      <td>Codeup Launches Houston!</td>\n",
       "      <td>Houston, we have a problem: there aren’t enoug...</td>\n",
       "    </tr>\n",
       "    <tr>\n",
       "      <th>3</th>\n",
       "      <td>Codeup Grads Win CivTech Datathon</td>\n",
       "      <td>Many Codeup alumni enjoy competing in hackatho...</td>\n",
       "    </tr>\n",
       "    <tr>\n",
       "      <th>4</th>\n",
       "      <td>How Codeup Alumni are Helping to Make Water</td>\n",
       "      <td>Imagine having a kit mailed to you with all th...</td>\n",
       "    </tr>\n",
       "    <tr>\n",
       "      <th>5</th>\n",
       "      <td>What is the Transition into Data Science Like?</td>\n",
       "      <td>Alumni Katy Salts and Brandi Reger joined us a...</td>\n",
       "    </tr>\n",
       "    <tr>\n",
       "      <th>6</th>\n",
       "      <td>What Data Science Career is For You?</td>\n",
       "      <td>If you’re struggling to see yourself as a data...</td>\n",
       "    </tr>\n",
       "    <tr>\n",
       "      <th>7</th>\n",
       "      <td>What to Expect at Codeup</td>\n",
       "      <td>Setting Expectations for Life Before, During, ...</td>\n",
       "    </tr>\n",
       "    <tr>\n",
       "      <th>8</th>\n",
       "      <td>What is Python?</td>\n",
       "      <td>If you’ve been digging around our website or r...</td>\n",
       "    </tr>\n",
       "    <tr>\n",
       "      <th>9</th>\n",
       "      <td>Your Education is an Investment</td>\n",
       "      <td>You have many options regarding educational ro...</td>\n",
       "    </tr>\n",
       "  </tbody>\n",
       "</table>\n",
       "</div>"
      ],
      "text/plain": [
       "                                            title  \\\n",
       "0                       What is Machine Learning?   \n",
       "1         Introducing Our Salary Refund Guarantee   \n",
       "2                        Codeup Launches Houston!   \n",
       "3               Codeup Grads Win CivTech Datathon   \n",
       "4     How Codeup Alumni are Helping to Make Water   \n",
       "5  What is the Transition into Data Science Like?   \n",
       "6            What Data Science Career is For You?   \n",
       "7                        What to Expect at Codeup   \n",
       "8                                 What is Python?   \n",
       "9                 Your Education is an Investment   \n",
       "\n",
       "                                             content  \n",
       "0  There’s a lot we can learn about machines, and...  \n",
       "1  Here at Codeup, we believe it’s time to revolu...  \n",
       "2  Houston, we have a problem: there aren’t enoug...  \n",
       "3  Many Codeup alumni enjoy competing in hackatho...  \n",
       "4  Imagine having a kit mailed to you with all th...  \n",
       "5  Alumni Katy Salts and Brandi Reger joined us a...  \n",
       "6  If you’re struggling to see yourself as a data...  \n",
       "7  Setting Expectations for Life Before, During, ...  \n",
       "8  If you’ve been digging around our website or r...  \n",
       "9  You have many options regarding educational ro...  "
      ]
     },
     "execution_count": 18,
     "metadata": {},
     "output_type": "execute_result"
    }
   ],
   "source": [
    "big_blogs.head(10)"
   ]
  },
  {
   "cell_type": "markdown",
   "metadata": {},
   "source": [
    "### 2. News Articles\n",
    "\n",
    "**We will now be scraping text data from inshorts, a website that provides a brief overview of many different topics.**\n",
    "\n",
    "**Write a function that scrapes the news articles for the following topics:**\n",
    "\n",
    "- Business\n",
    "- Sports\n",
    "- Technology\n",
    "- Entertainment\n",
    "\n",
    "**The end product of this should be a function named get_news_articles that returns a list of dictionaries, where each dictionary has this shape:\n",
    "\n",
    "{\n",
    "    'title': 'The article title',\n",
    "    'content': 'The article content',\n",
    "    'category': 'business' # for example\n",
    "}"
   ]
  },
  {
   "cell_type": "code",
   "execution_count": 21,
   "metadata": {},
   "outputs": [],
   "source": [
    "# Make the soup object using my function.\n",
    "\n",
    "url = 'https://inshorts.com/en/read/entertainment'\n",
    "soup = make_soup(url)"
   ]
  },
  {
   "cell_type": "code",
   "execution_count": 22,
   "metadata": {},
   "outputs": [
    {
     "name": "stdout",
     "output_type": "stream",
     "text": [
      "There are 24 news cards on this page.\n",
      "\n"
     ]
    },
    {
     "data": {
      "text/plain": [
       "<div class=\"news-card z-depth-1\" itemscope=\"\" itemtype=\"http://schema.org/NewsArticle\">\n",
       "<span content=\"\" itemid=\"https://inshorts.com/en/news/govinda-didnt-visit-when-one-of-my-twins-was-fighting-for-life-nephew-krushna-1605501525227\" itemprop=\"mainEntityOfPage\" itemscope=\"\" itemtype=\"https://schema.org/WebPage\"></span>\n",
       "<span itemprop=\"author\" itemscope=\"itemscope\" itemtype=\"https://schema.org/Person\">\n",
       "<span content=\"Daisy Mowke\" itemprop=\"name\"></span>\n",
       "</span>\n",
       "<span content=\"Govinda didn't visit when one of my twins was fighting for life: Nephew Krushna \" itemprop=\"description\"></span>\n",
       "<span itemprop=\"image\" itemscope=\"\" itemtype=\"https://schema.org/ImageObject\">\n",
       "<meta content=\"https://static.inshorts.com/inshorts/images/v1/variants/jpg/m/2020/11_nov/16_mon/img_1605501016018_425.jpg?\" itemprop=\"url\"/>\n",
       "<meta content=\"864\" itemprop=\"width\"/>\n",
       "<meta content=\"483\" itemprop=\"height\"/>\n",
       "</span>\n",
       "<span itemprop=\"publisher\" itemscope=\"itemscope\" itemtype=\"https://schema.org/Organization\">\n",
       "<span content=\"https://inshorts.com/\" itemprop=\"url\"></span>\n",
       "<span content=\"Inshorts\" itemprop=\"name\"></span>\n",
       "<span itemprop=\"logo\" itemscope=\"\" itemtype=\"https://schema.org/ImageObject\">\n",
       "<span content=\"https://assets.inshorts.com/inshorts/images/v1/variants/jpg/m/2018/11_nov/21_wed/img_1542823931298_497.jpg\" itemprop=\"url\"></span>\n",
       "<meta content=\"400\" itemprop=\"width\"/>\n",
       "<meta content=\"60\" itemprop=\"height\"/>\n",
       "</span>\n",
       "</span>\n",
       "<div class=\"news-card-image\" style=\"background-image: url('https://static.inshorts.com/inshorts/images/v1/variants/jpg/m/2020/11_nov/16_mon/img_1605501016018_425.jpg?')\">\n",
       "</div>\n",
       "<div class=\"news-card-title news-right-box\">\n",
       "<a class=\"clickable\" href=\"/en/news/govinda-didnt-visit-when-one-of-my-twins-was-fighting-for-life-nephew-krushna-1605501525227\" onclick=\"ga('send', {'hitType': 'event', 'eventCategory': 'TitleOfNews', 'eventAction': 'clicked', 'eventLabel': 'Govinda%20didn't%20visit%20when%20one%20of%20my%20twins%20was%20fighting%20for%20life%3A%20Nephew%20Krushna%20)' });\" style=\"color:#44444d!important\">\n",
       "<span itemprop=\"headline\">Govinda didn't visit when one of my twins was fighting for life: Nephew Krushna </span>\n",
       "</a>\n",
       "<div class=\"news-card-author-time news-card-author-time-in-title\">\n",
       "<a href=\"/prev/en/news/govinda-didnt-visit-when-one-of-my-twins-was-fighting-for-life-nephew-krushna-1605501525227\"><span class=\"short\">short</span></a> by <span class=\"author\">Daisy Mowke</span> / \n",
       "      <span class=\"time\" content=\"2020-11-16T04:38:45.000Z\" itemprop=\"datePublished\">10:08 am</span> on <span clas=\"date\">16 Nov 2020,Monday</span>\n",
       "</div>\n",
       "</div>\n",
       "<div class=\"news-card-content news-right-box\">\n",
       "<div itemprop=\"articleBody\">Krushna Abhishek has opted out of an episode of 'The Kapil Sharma Show' which will feature his uncle, Govinda, as guest. \"The enmity has affected me badly. When...relationship between...people is strained, it's difficult to perform comedy,\" he stated. Krushna added, \"[He] didn't even come to see my twins in hospital, not even when one of them was fighting for life.\"</div>\n",
       "<div class=\"news-card-author-time news-card-author-time-in-content\">\n",
       "<a href=\"/prev/en/news/govinda-didnt-visit-when-one-of-my-twins-was-fighting-for-life-nephew-krushna-1605501525227\"><span class=\"short\">short</span></a> by <span class=\"author\">Daisy Mowke</span> / \n",
       "      <span class=\"time\" content=\"2020-11-16T04:38:45.000Z\" itemprop=\"dateModified\">10:08 am</span> on <span class=\"date\">16 Nov</span>\n",
       "</div>\n",
       "</div>\n",
       "<div class=\"news-card-footer news-right-box\">\n",
       "<div class=\"read-more\">read more at <a class=\"source\" href=\"https://m.hindustantimes.com/tv/krushna-abhishek-refuses-to-perform-in-kapil-sharma-show-episode-with-govinda-as-guest-says-the-enmity-has-affected-me-badly/story-TDOWSG2FoMsSgHzrPhGd6M_amp.html?utm_campaign=fullarticle&amp;utm_medium=referral&amp;utm_source=inshorts \" onclick=\"ga('send', {'hitType': 'event', 'eventCategory': 'ReadMore', 'eventAction': 'clicked', 'eventLabel': 'Hindustan%20Times' });\" target=\"_blank\">Hindustan Times</a></div>\n",
       "</div>\n",
       "</div>"
      ]
     },
     "execution_count": 22,
     "metadata": {},
     "output_type": "execute_result"
    }
   ],
   "source": [
    "# Scrape a ResultSet of all the news cards on the page and inspect the elements on the first card.\n",
    "\n",
    "cards = soup.find_all('div', class_='news-card')\n",
    "\n",
    "print(f'There are {len(cards)} news cards on this page.')\n",
    "print()\n",
    "cards[0]"
   ]
  },
  {
   "cell_type": "code",
   "execution_count": 23,
   "metadata": {},
   "outputs": [
    {
     "data": {
      "text/plain": [
       "[\"Govinda didn't visit when one of my twins was fighting for life: Nephew Krushna \",\n",
       " 'Tamil TV series actor hacked to death, CCTV footage shows argument with gang',\n",
       " \"Big B's father's statue in Poland honoured with diya on Diwali, actor shares pic\",\n",
       " \"Salman is everything to me: Amaal on trolling by his fans for saying he's SRK fan\",\n",
       " 'Dwayne Johnson fails to get into Porsche for chase sequence in movie, shares pic']"
      ]
     },
     "execution_count": 23,
     "metadata": {},
     "output_type": "execute_result"
    }
   ],
   "source": [
    "# Create a list of titles using the span element and itemprop attribute with text method.\n",
    "\n",
    "titles = [card.find('span', itemprop='headline').text for card in cards]\n",
    "titles[:5]"
   ]
  },
  {
   "cell_type": "code",
   "execution_count": 24,
   "metadata": {},
   "outputs": [
    {
     "data": {
      "text/plain": [
       "['Daisy Mowke', 'Daisy Mowke', 'Daisy Mowke', 'Daisy Mowke', 'Anmol Sharma']"
      ]
     },
     "execution_count": 24,
     "metadata": {},
     "output_type": "execute_result"
    }
   ],
   "source": [
    "# Create a list of authors using the span element and class attribute with text method.\n",
    "\n",
    "authors = [card.find('span', class_='author').text for card in cards]\n",
    "authors[:5]"
   ]
  },
  {
   "cell_type": "code",
   "execution_count": 25,
   "metadata": {},
   "outputs": [
    {
     "data": {
      "text/plain": [
       "['Krushna Abhishek has opted out of an episode of \\'The Kapil Sharma Show\\' which will feature his uncle, Govinda, as guest. \"The enmity has affected me badly. When...relationship between...people is strained, it\\'s difficult to perform comedy,\" he stated. Krushna added, \"[He] didn\\'t even come to see my twins in hospital, not even when one of them was fighting for life.\"',\n",
       " 'Selvarathinam, an actor who played a villain in a Tamil TV series was hacked to death. \"[On Sunday]...he received a call after which he left...Later, his roommate received the information [about his death],\" police said. CCTV footage shows 4 suspicious men moving about near the murder spot. The actor could be found involved in a brief argument with the gang.',\n",
       " 'Amitabh Bachchan has shared a photo of a diya being lit near the statue of his late father, poet Harivansh Rai Bachchan, in a square in the Polish city of Wroclaw which has been named after his father. \"They honour Babuji by placing a \\'diya\\' for Deepavali at his statue in Wroclaw...an honour a pride,\" he wrote. ',\n",
       " 'Singer Amaal Mallik, speaking about Salman Khan\\'s fans trolling him for saying he\\'s Shah Rukh Khan\\'s fan, said, \"People who say they\\'re fans of a certain star, should know...the certain star has launched me.\" \"He\\'s everything to me. He\\'s...family,\" added Amaal. \"I love Shah Rukh Khan as an SRKian. You cannot have a problem with my personal opinion,\" he stated.',\n",
       " 'Hollywood actor Dwayne \\'The Rock\\' Johnson took to Instagram to reveal that he failed to get into an \"iconic Porsche\" sports car for a chase sequence in an upcoming movie. He added that the team had to change the entire shot sequence around due to his inability to get into the car because of his \"bit too wide\" back.']"
      ]
     },
     "execution_count": 25,
     "metadata": {},
     "output_type": "execute_result"
    }
   ],
   "source": [
    "# Create a list of content strings using the div element and itemprop attribute with text method.\n",
    "\n",
    "content = [card.find('div', itemprop='articleBody').text for card in cards]\n",
    "content[:5]"
   ]
  },
  {
   "cell_type": "code",
   "execution_count": 26,
   "metadata": {},
   "outputs": [],
   "source": [
    "# Create an empty list, articles, to hold the dictionaries for each article.\n",
    "articles = []\n",
    "\n",
    "# Loop through each news card on the page and get what we want\n",
    "for card in cards:\n",
    "    title = card.find('span', itemprop='headline' ).text\n",
    "    author = card.find('span', class_='author').text\n",
    "    content = card.find('div', itemprop='articleBody').text\n",
    "    \n",
    "    # Create a dictionary, article, for each news card\n",
    "    article = {'title': title, 'author': author, 'content': content}\n",
    "    \n",
    "    # Add the dictionary, article, to our list of dictionaries, articles.\n",
    "    articles.append(article)"
   ]
  },
  {
   "cell_type": "code",
   "execution_count": 27,
   "metadata": {},
   "outputs": [
    {
     "name": "stdout",
     "output_type": "stream",
     "text": [
      "24\n"
     ]
    },
    {
     "data": {
      "text/plain": [
       "{'title': \"Govinda didn't visit when one of my twins was fighting for life: Nephew Krushna \",\n",
       " 'author': 'Daisy Mowke',\n",
       " 'content': 'Krushna Abhishek has opted out of an episode of \\'The Kapil Sharma Show\\' which will feature his uncle, Govinda, as guest. \"The enmity has affected me badly. When...relationship between...people is strained, it\\'s difficult to perform comedy,\" he stated. Krushna added, \"[He] didn\\'t even come to see my twins in hospital, not even when one of them was fighting for life.\"'}"
      ]
     },
     "execution_count": 27,
     "metadata": {},
     "output_type": "execute_result"
    }
   ],
   "source": [
    "# Here we see our list contains 24-25 dictionaries for news cards\n",
    "\n",
    "print(len(articles))\n",
    "articles[0]"
   ]
  },
  {
   "cell_type": "code",
   "execution_count": 28,
   "metadata": {},
   "outputs": [],
   "source": [
    "def get_news_articles(cached=False):\n",
    "    '''\n",
    "    This function with default cached == False does a fresh scrape of inshort pages with topics \n",
    "    business, sports, technology, and entertainment and writes the returned df to a json file.\n",
    "    cached == True returns a df read in from a json file.\n",
    "    '''\n",
    "    # option to read in a json file instead of scrape for df\n",
    "    if cached == True:\n",
    "        df = pd.read_json('articles.json')\n",
    "        \n",
    "    # cached == False completes a fresh scrape for df    \n",
    "    else:\n",
    "    \n",
    "        # Set base_url that will be used in get request\n",
    "        base_url = 'https://inshorts.com/en/read/'\n",
    "        \n",
    "        # List of topics to scrape\n",
    "        topics = ['business', 'sports', 'technology', 'entertainment']\n",
    "        \n",
    "        # Create an empty list, articles, to hold our dictionaries\n",
    "        articles = []\n",
    "\n",
    "        for topic in topics:\n",
    "            \n",
    "            # Create url with topic endpoint\n",
    "            topic_url = base_url + topic\n",
    "            \n",
    "            # Make request and soup object using helper\n",
    "            soup = make_soup(topic_url)\n",
    "\n",
    "            # Scrape a ResultSet of all the news cards on the page\n",
    "            cards = soup.find_all('div', class_='news-card')\n",
    "\n",
    "            # Loop through each news card on the page and get what we want\n",
    "            for card in cards:\n",
    "                title = card.find('span', itemprop='headline' ).text\n",
    "                author = card.find('span', class_='author').text\n",
    "                content = card.find('div', itemprop='articleBody').text\n",
    "\n",
    "                # Create a dictionary, article, for each news card\n",
    "                article = ({'topic': topic, \n",
    "                            'title': title, \n",
    "                            'author': author, \n",
    "                            'content': content})\n",
    "\n",
    "                # Add the dictionary, article, to our list of dictionaries, articles.\n",
    "                articles.append(article)\n",
    "            \n",
    "        # Create a DataFrame from list of dictionaries\n",
    "        df = pd.DataFrame(articles)\n",
    "        \n",
    "        # Write df to json file for future use\n",
    "        df.to_json('articles.json')\n",
    "    \n",
    "    return df"
   ]
  },
  {
   "cell_type": "code",
   "execution_count": 29,
   "metadata": {},
   "outputs": [
    {
     "data": {
      "text/html": [
       "<div>\n",
       "<style scoped>\n",
       "    .dataframe tbody tr th:only-of-type {\n",
       "        vertical-align: middle;\n",
       "    }\n",
       "\n",
       "    .dataframe tbody tr th {\n",
       "        vertical-align: top;\n",
       "    }\n",
       "\n",
       "    .dataframe thead th {\n",
       "        text-align: right;\n",
       "    }\n",
       "</style>\n",
       "<table border=\"1\" class=\"dataframe\">\n",
       "  <thead>\n",
       "    <tr style=\"text-align: right;\">\n",
       "      <th></th>\n",
       "      <th>topic</th>\n",
       "      <th>title</th>\n",
       "      <th>author</th>\n",
       "      <th>content</th>\n",
       "    </tr>\n",
       "  </thead>\n",
       "  <tbody>\n",
       "    <tr>\n",
       "      <th>0</th>\n",
       "      <td>business</td>\n",
       "      <td>Moderna's early data shows its COVID-19 vaccin...</td>\n",
       "      <td>Pragya Swastik</td>\n",
       "      <td>American biotechnology company Moderna on Mond...</td>\n",
       "    </tr>\n",
       "    <tr>\n",
       "      <th>1</th>\n",
       "      <td>business</td>\n",
       "      <td>15 countries sign world's biggest free-trade p...</td>\n",
       "      <td>Pragya Swastik</td>\n",
       "      <td>Fifteen Asia-Pacific countries signed the Regi...</td>\n",
       "    </tr>\n",
       "    <tr>\n",
       "      <th>2</th>\n",
       "      <td>business</td>\n",
       "      <td>How does Moderna's COVID-19 vaccine candidate ...</td>\n",
       "      <td>Pragya Swastik</td>\n",
       "      <td>Moderna's initial results of late-stage trial ...</td>\n",
       "    </tr>\n",
       "    <tr>\n",
       "      <th>3</th>\n",
       "      <td>business</td>\n",
       "      <td>Reliance Retail buys 96% stake in Urban Ladder...</td>\n",
       "      <td>Rishabh Bhatnagar</td>\n",
       "      <td>Reliance Industries' retail arm Reliance Retai...</td>\n",
       "    </tr>\n",
       "    <tr>\n",
       "      <th>4</th>\n",
       "      <td>business</td>\n",
       "      <td>Reduce foreign funding to 26% by Oct 15, 2021:...</td>\n",
       "      <td>Pragya Swastik</td>\n",
       "      <td>The I&amp;B Ministry on Monday asked digital media...</td>\n",
       "    </tr>\n",
       "  </tbody>\n",
       "</table>\n",
       "</div>"
      ],
      "text/plain": [
       "      topic                                              title  \\\n",
       "0  business  Moderna's early data shows its COVID-19 vaccin...   \n",
       "1  business  15 countries sign world's biggest free-trade p...   \n",
       "2  business  How does Moderna's COVID-19 vaccine candidate ...   \n",
       "3  business  Reliance Retail buys 96% stake in Urban Ladder...   \n",
       "4  business  Reduce foreign funding to 26% by Oct 15, 2021:...   \n",
       "\n",
       "              author                                            content  \n",
       "0     Pragya Swastik  American biotechnology company Moderna on Mond...  \n",
       "1     Pragya Swastik  Fifteen Asia-Pacific countries signed the Regi...  \n",
       "2     Pragya Swastik  Moderna's initial results of late-stage trial ...  \n",
       "3  Rishabh Bhatnagar  Reliance Industries' retail arm Reliance Retai...  \n",
       "4     Pragya Swastik  The I&B Ministry on Monday asked digital media...  "
      ]
     },
     "execution_count": 29,
     "metadata": {},
     "output_type": "execute_result"
    }
   ],
   "source": [
    "# Test our function with cached == False to do a freash scrape and create `articles.json` file.\n",
    "\n",
    "df = get_news_articles(cached=False)\n",
    "df.head()"
   ]
  },
  {
   "cell_type": "code",
   "execution_count": 30,
   "metadata": {},
   "outputs": [
    {
     "data": {
      "text/plain": [
       "technology       25\n",
       "sports           25\n",
       "business         25\n",
       "entertainment    24\n",
       "Name: topic, dtype: int64"
      ]
     },
     "execution_count": 30,
     "metadata": {},
     "output_type": "execute_result"
    }
   ],
   "source": [
    "df.topic.value_counts()"
   ]
  },
  {
   "cell_type": "code",
   "execution_count": 31,
   "metadata": {},
   "outputs": [
    {
     "data": {
      "text/html": [
       "<div>\n",
       "<style scoped>\n",
       "    .dataframe tbody tr th:only-of-type {\n",
       "        vertical-align: middle;\n",
       "    }\n",
       "\n",
       "    .dataframe tbody tr th {\n",
       "        vertical-align: top;\n",
       "    }\n",
       "\n",
       "    .dataframe thead th {\n",
       "        text-align: right;\n",
       "    }\n",
       "</style>\n",
       "<table border=\"1\" class=\"dataframe\">\n",
       "  <thead>\n",
       "    <tr style=\"text-align: right;\">\n",
       "      <th></th>\n",
       "      <th>topic</th>\n",
       "      <th>title</th>\n",
       "      <th>author</th>\n",
       "      <th>content</th>\n",
       "    </tr>\n",
       "  </thead>\n",
       "  <tbody>\n",
       "    <tr>\n",
       "      <th>0</th>\n",
       "      <td>business</td>\n",
       "      <td>Moderna's early data shows its COVID-19 vaccin...</td>\n",
       "      <td>Pragya Swastik</td>\n",
       "      <td>American biotechnology company Moderna on Mond...</td>\n",
       "    </tr>\n",
       "    <tr>\n",
       "      <th>1</th>\n",
       "      <td>business</td>\n",
       "      <td>15 countries sign world's biggest free-trade p...</td>\n",
       "      <td>Pragya Swastik</td>\n",
       "      <td>Fifteen Asia-Pacific countries signed the Regi...</td>\n",
       "    </tr>\n",
       "    <tr>\n",
       "      <th>2</th>\n",
       "      <td>business</td>\n",
       "      <td>How does Moderna's COVID-19 vaccine candidate ...</td>\n",
       "      <td>Pragya Swastik</td>\n",
       "      <td>Moderna's initial results of late-stage trial ...</td>\n",
       "    </tr>\n",
       "    <tr>\n",
       "      <th>3</th>\n",
       "      <td>business</td>\n",
       "      <td>Reliance Retail buys 96% stake in Urban Ladder...</td>\n",
       "      <td>Rishabh Bhatnagar</td>\n",
       "      <td>Reliance Industries' retail arm Reliance Retai...</td>\n",
       "    </tr>\n",
       "    <tr>\n",
       "      <th>4</th>\n",
       "      <td>business</td>\n",
       "      <td>Reduce foreign funding to 26% by Oct 15, 2021:...</td>\n",
       "      <td>Pragya Swastik</td>\n",
       "      <td>The I&amp;B Ministry on Monday asked digital media...</td>\n",
       "    </tr>\n",
       "  </tbody>\n",
       "</table>\n",
       "</div>"
      ],
      "text/plain": [
       "      topic                                              title  \\\n",
       "0  business  Moderna's early data shows its COVID-19 vaccin...   \n",
       "1  business  15 countries sign world's biggest free-trade p...   \n",
       "2  business  How does Moderna's COVID-19 vaccine candidate ...   \n",
       "3  business  Reliance Retail buys 96% stake in Urban Ladder...   \n",
       "4  business  Reduce foreign funding to 26% by Oct 15, 2021:...   \n",
       "\n",
       "              author                                            content  \n",
       "0     Pragya Swastik  American biotechnology company Moderna on Mond...  \n",
       "1     Pragya Swastik  Fifteen Asia-Pacific countries signed the Regi...  \n",
       "2     Pragya Swastik  Moderna's initial results of late-stage trial ...  \n",
       "3  Rishabh Bhatnagar  Reliance Industries' retail arm Reliance Retai...  \n",
       "4     Pragya Swastik  The I&B Ministry on Monday asked digital media...  "
      ]
     },
     "execution_count": 31,
     "metadata": {},
     "output_type": "execute_result"
    }
   ],
   "source": [
    "# Test our function to read in the df from `articles.csv`\n",
    "\n",
    "df = get_news_articles(cached=True)\n",
    "df.head()"
   ]
  },
  {
   "cell_type": "code",
   "execution_count": null,
   "metadata": {},
   "outputs": [],
   "source": []
  }
 ],
 "metadata": {
  "kernelspec": {
   "display_name": "Python 3",
   "language": "python",
   "name": "python3"
  },
  "language_info": {
   "codemirror_mode": {
    "name": "ipython",
    "version": 3
   },
   "file_extension": ".py",
   "mimetype": "text/x-python",
   "name": "python",
   "nbconvert_exporter": "python",
   "pygments_lexer": "ipython3",
   "version": "3.7.6"
  }
 },
 "nbformat": 4,
 "nbformat_minor": 4
}
